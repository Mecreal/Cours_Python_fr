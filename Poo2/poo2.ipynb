{
 "cells": [
  {
   "cell_type": "markdown",
   "metadata": {},
   "source": [
    "# Exercices de POO en Python\n",
    "\n",
    "## Exercice 1: Classe Étudiant\n",
    "\n",
    "    Créez une classe Etudiant avec les attributs suivants:\n",
    "        nom (chaine de caractères)\n",
    "        prenom (chaine de caractères)\n",
    "        matricule (entier)\n",
    "\n",
    "    Écrivez une méthode __init__ pour initialiser ces attributs.\n",
    "\n",
    "    Créez quelques instances de la classe Etudiant et affichez leurs informations.\n"
   ]
  },
  {
   "cell_type": "code",
   "execution_count": 82,
   "metadata": {},
   "outputs": [
    {
     "name": "stdout",
     "output_type": "stream",
     "text": [
      "Étudiant: Jean Dupont (Matricule: 12345)\n",
      "Étudiant: Sophie Martin (Matricule: 67890)\n"
     ]
    }
   ],
   "source": [
    "class Etudiant:\n",
    "    def __init__(self, nom, prenom, matricule):\n",
    "        self.nom = nom\n",
    "        self.prenom = prenom\n",
    "        self.matricule = matricule\n",
    "\n",
    "    def afficher_infos(self):\n",
    "        print(f\"Étudiant: {self.prenom} {self.nom} (Matricule: {self.matricule})\")\n",
    "\n",
    "# Exemple d'utilisation\n",
    "etudiant1 = Etudiant(\"Dupont\", \"Jean\", 12345)\n",
    "etudiant2 = Etudiant(\"Martin\", \"Sophie\", 67890)\n",
    "\n",
    "etudiant1.afficher_infos()\n",
    "etudiant2.afficher_infos()"
   ]
  },
  {
   "cell_type": "markdown",
   "metadata": {},
   "source": [
    "\n",
    "## Exercice 2: Classe Livre\n",
    "\n",
    "    Créez une classe Livre avec les attributs suivants:\n",
    "        titre (chaine de caractères)\n",
    "        auteur (chaine de caractères)\n",
    "        nombre_pages (entier)\n",
    "\n",
    "    Écrivez une méthode __init__ pour initialiser ces attributs.\n",
    "\n",
    "    Ajoutez une méthode afficher_infos() pour afficher les détails du livre.\n",
    "\n",
    "Python\n"
   ]
  },
  {
   "cell_type": "code",
   "execution_count": 83,
   "metadata": {},
   "outputs": [],
   "source": [
    "\n",
    "class Livre:\n",
    "    def __init__(self, titre, auteur, nombre_pages):\n",
    "        self.titre = titre\n",
    "        self.auteur = auteur\n",
    "        self.nombre_pages = nombre_pages\n",
    "\n",
    "    def afficher_infos(self):\n",
    "        print(f\"Livre: {self.titre} (par {self.auteur}) - {self.nombre_pages} pages\")"
   ]
  },
  {
   "cell_type": "markdown",
   "metadata": {},
   "source": [
    "## Exercice 3: Encapsulation\n",
    "\n",
    "    Modifiez la classe Etudiant pour rendre les attributs nom, prenom, et matricule privés.\n",
    "    Ajoutez des méthodes getters et setters (ex: get_nom(), set_nom(), etc.) pour contrôler l'accès à ces attributs."
   ]
  },
  {
   "cell_type": "code",
   "execution_count": 84,
   "metadata": {},
   "outputs": [
    {
     "name": "stdout",
     "output_type": "stream",
     "text": [
      "fatou\n"
     ]
    }
   ],
   "source": [
    "\n",
    "\n",
    "class Etudiant:\n",
    "    def __init__(self, nom, prenom, matricule):\n",
    "        self.__nom = nom\n",
    "        self.__prenom = prenom\n",
    "        self.__matricule = matricule\n",
    "    \n",
    "    # ... (Autres méthodes)\n",
    "\n",
    "    def get_nom54(self):\n",
    "        return self.__nom\n",
    "\n",
    "    def set_nom(self, name):\n",
    "        self.__nom = name\n",
    "        \n",
    "    def afficher_infos(self):\n",
    "        print(f\"Étudiant: {self.__prenom} {self.__nom} (Matricule: {self.__matricule})\")\n",
    "\n",
    "etudiant1 = Etudiant(\"hamza\", \"ab\", 157)\n",
    "etudiant1.set_nom(\"fatou\")\n",
    "print(etudiant1.get_nom54())\n",
    "# Getters et Setters similaires pour prenom et matricule"
   ]
  },
  {
   "cell_type": "markdown",
   "metadata": {},
   "source": [
    "## Exercice 4: Héritage - Classe Employé\n",
    "\n",
    "    Créez une classe Employe qui hérite de la classe Etudiant.\n",
    "    Ajoutez un attribut salaire à la classe Employe.\n",
    "    Modifiez la méthode __init__ d' Employe pour initialiser les attributs d' Etudiant et salaire.\n",
    "    Réutilisez la méthode afficher_infos de la classe Etudiant si approprié."
   ]
  },
  {
   "cell_type": "code",
   "execution_count": 85,
   "metadata": {},
   "outputs": [],
   "source": [
    "class Employe(Etudiant):\n",
    "    def __init__(self, nom, prenom, matricule, salaire):\n",
    "        super().__init__(nom, prenom, matricule)\n",
    "        self.salaire = salaire\n",
    "\n",
    "    def afficher_infos(self):\n",
    "        super().afficher_infos()\n",
    "        print(f\"Salaire: {self.salaire}\")\n",
    "    \n",
    "    def calculer_impot(self):\n",
    "        impot = self.salaire * 0.25\n",
    "        print(f\"Impôt à payer: {impot}\")"
   ]
  },
  {
   "cell_type": "markdown",
   "metadata": {},
   "source": [
    "### Exercice 5: Héritage Multiple\n",
    "\n",
    "#### Description:\n",
    "Créez une classe `Professeur` qui hérite à la fois de `Employe` et d'une nouvelle classe `Chercheur`. Ajoutez des attributs spécifiques pour `Professeur`, comme `domaine_recherche`. Initialisez tous les attributs de base plus ceux spécifiques à `Professeur`.\n",
    "\n"
   ]
  },
  {
   "cell_type": "code",
   "execution_count": 86,
   "metadata": {},
   "outputs": [],
   "source": [
    "\n",
    "class Chercheur:\n",
    "    def __init__(self, domaine_recherche):\n",
    "        self.domaine_recherche = domaine_recherche\n",
    "\n",
    "    def afficher_recherche(self):\n",
    "        print(f\"Domaine de recherche: {self.domaine_recherche}\")\n",
    "\n",
    "class Professeur(Employe, Chercheur):\n",
    "    def __init__(self, nom, prenom, matricule, salaire, domaine_recherche):\n",
    "        Employe.__init__(self, nom, prenom, matricule, salaire)\n",
    "        Chercheur.__init__(self, domaine_recherche)\n",
    "\n",
    "    def afficher_infos(self):\n",
    "        Employe.afficher_infos(self)\n",
    "        Chercheur.afficher_recherche(self)\n"
   ]
  },
  {
   "cell_type": "markdown",
   "metadata": {},
   "source": [
    "\n",
    "### Exemple d'utilisation\n"
   ]
  },
  {
   "cell_type": "code",
   "execution_count": 87,
   "metadata": {},
   "outputs": [
    {
     "name": "stdout",
     "output_type": "stream",
     "text": [
      "Étudiant: Marie Leclerc (Matricule: 99999)\n",
      "Salaire: 50000\n",
      "Domaine de recherche: Intelligence Artificielle\n"
     ]
    }
   ],
   "source": [
    "prof1 = Professeur(\"Leclerc\", \"Marie\", 99999, 50000, \"Intelligence Artificielle\")\n",
    "prof1.afficher_infos()"
   ]
  },
  {
   "cell_type": "markdown",
   "metadata": {},
   "source": [
    "### Exercice 6: Polymorphisme\n",
    "\n",
    "#### Description:\n",
    "Redéfinissez la méthode `afficher_infos` dans la classe `Professeur` pour inclure des informations spécifiques à cette classe, démontrant ainsi le polymorphisme.\n",
    "\n",
    "#### Code :"
   ]
  },
  {
   "cell_type": "code",
   "execution_count": 88,
   "metadata": {},
   "outputs": [],
   "source": [
    "class Professeur(Employe, Chercheur):\n",
    "    def __init__(self, nom, prenom, matricule, salaire, domaine_recherche):\n",
    "        super().__init__(nom, prenom, matricule, salaire)\n",
    "        Chercheur.__init__(self, domaine_recherche)\n",
    "\n",
    "    def afficher_infos(self):\n",
    "        super().afficher_infos()\n",
    "        print(f\"Spécialisé en: {self.domaine_recherche}\")"
   ]
  },
  {
   "cell_type": "markdown",
   "metadata": {},
   "source": [
    "### Exercice 6 Bis\n",
    "\n",
    "Ajouter une méthode Impot au Class `Employe` dans la quelle l'impot est calculer et afficher\n",
    "- Affiche l'impot pour un professeur "
   ]
  },
  {
   "cell_type": "code",
   "execution_count": 89,
   "metadata": {},
   "outputs": [
    {
     "name": "stdout",
     "output_type": "stream",
     "text": [
      "Étudiant: Marie Leclerc (Matricule: 99999)\n",
      "Salaire: 50000\n",
      "Spécialisé en: Intelligence Artificielle\n",
      "Impôt à payer: 12500.0\n"
     ]
    }
   ],
   "source": [
    "# Exercice 6 Bis\n",
    "\n",
    "# Ajouter une méthode Impot au Class `Employe` dans la quelle l'impot est calculer et afficher\n",
    "# - Affiche l'impot pour un professeur \n",
    "\n",
    "class Employe(Etudiant):\n",
    "    def __init__(self, nom, prenom, matricule, salaire):\n",
    "        super().__init__(nom, prenom, matricule)\n",
    "        self.salaire = salaire\n",
    "\n",
    "    def afficher_infos(self):\n",
    "        super().afficher_infos()\n",
    "        print(f\"Salaire: {self.salaire}\")\n",
    "\n",
    "    def calculer_impot(self):\n",
    "        impot = self.salaire * 0.25\n",
    "        print(f\"Impôt à payer: {impot}\")\n",
    "\n",
    "prof1 = Professeur(\"Leclerc\", \"Marie\", 99999, 50000, \"Intelligence Artificielle\")\n",
    "prof1.afficher_infos()\n",
    "prof1.calculer_impot()\n"
   ]
  },
  {
   "cell_type": "markdown",
   "metadata": {},
   "source": [
    "### Exercice 7: Gestion des Exceptions\n",
    "\n",
    "#### Description:\n",
    "Ajoutez une gestion d'erreur pour contrôler l'entrée du `matricule` dans la classe `Etudiant`. Assurez-vous que le `matricule` soit un entier non nul et valide.\n"
   ]
  },
  {
   "cell_type": "code",
   "execution_count": 90,
   "metadata": {},
   "outputs": [],
   "source": [
    "class Etudiant:\n",
    "    def __init__(self, nom, prenom, matricule):\n",
    "        if not isinstance(matricule, int) or matricule <= 0:\n",
    "            raise ValueError(\"Le matricule doit être un entier positif.\")\n",
    "        self.__nom = nom\n",
    "        self.__prenom = prenom\n",
    "        self.__matricule = matricule"
   ]
  },
  {
   "cell_type": "code",
   "execution_count": 91,
   "metadata": {},
   "outputs": [
    {
     "name": "stdout",
     "output_type": "stream",
     "text": [
      "Erreur: Le matricule doit être un entier positif.\n"
     ]
    }
   ],
   "source": [
    "class Etudiant:\n",
    "    def __init__(self, nom, prenom, matricule):\n",
    "        try:\n",
    "            if not isinstance(matricule, int) or matricule <= 0:\n",
    "                raise ValueError(\"Le matricule doit être un entier positif.\")\n",
    "            self.__nom = nom\n",
    "            self.__prenom = prenom\n",
    "            self.__matricule = matricule\n",
    "        except ValueError as e:\n",
    "            print(f\"Erreur: {e}\")\n",
    "\n",
    "mat = input(\"entree matricule: \")\n",
    "etudiant1 = Etudiant(\"hamza\", \"ab\", int(mat))\n"
   ]
  },
  {
   "cell_type": "markdown",
   "metadata": {},
   "source": [
    "\n",
    "### Exercice 8: Projet Pratique - Simulation de Bibliothèque\n",
    "\n",
    "#### Description:\n",
    "Concevez des classes pour simuler une bibliothèque: `Livre`, `Adherent`, `Bibliotheque`. Implémentez des méthodes pour ajouter des livres, inscrire des adhérents, et emprunter des livres."
   ]
  },
  {
   "cell_type": "code",
   "execution_count": 92,
   "metadata": {},
   "outputs": [],
   "source": [
    "\n",
    "class Adherent:\n",
    "    def __init__(self, nom, prenom, identifiant):\n",
    "        self.nom = nom\n",
    "        self.prenom = prenom\n",
    "        self.identifiant = identifiant\n",
    "\n",
    "    def afficher_adherent(self):\n",
    "        print(f\"Adhérent: {self.prenom} {self.nom} (ID: {self.identifiant})\")\n",
    "\n",
    "class Bibliotheque:\n",
    "    def __init__(self):\n",
    "        self.livres = []\n",
    "        self.adherents = []\n",
    "\n",
    "    def ajouter_livre(self, livre):\n",
    "        self.livres.append(livre)\n",
    "\n",
    "    def inscrire_adherent(self, adherent):\n",
    "        self.adherents.append(adherent)\n",
    "\n",
    "    def emprunter_livre(self, titre, adherent_id):\n",
    "        livre = next((l for l in self.livres if l.titre == titre and not l.est_emprunte), None)\n",
    "        if livre:\n",
    "            livre.est_emprunte = True\n",
    "            print(f\"Livre '{titre}' emprunté par {adherent_id}.\")\n",
    "        else:\n",
    "            print(\"Livre non disponible ou inexistant.\")"
   ]
  },
  {
   "cell_type": "markdown",
   "metadata": {},
   "source": [
    "### Exercice 9: Interactions et Sauvegarde\n",
    "\n",
    "#### Description:\n",
    "Ajoutez des fonctionnalités pour sauvegarder l'état actuel de la `Bibliotheque` dans un fichier et le restaurer.\n"
   ]
  },
  {
   "cell_type": "code",
   "execution_count": 94,
   "metadata": {},
   "outputs": [],
   "source": [
    "import pickle\n",
    "\n",
    "class Bibliotheque:\n",
    "    # ... (Autres méthodes)\n",
    "\n",
    "    def sauvegarder_etat(self, fichier):\n",
    "        with open(fichier, 'wb') as f:\n",
    "            pickle.dump(self, f)\n",
    "\n",
    "    @staticmethod\n",
    "    def restaurer_etat(fichier):\n",
    "        with open(fichier, 'rb') as f:\n",
    "            return pickle.load(f)\n",
    "\n"
   ]
  },
  {
   "cell_type": "markdown",
   "metadata": {},
   "source": [
    "\n",
    "### Exercice 10: Interface Utilisateur Simple\n",
    "\n",
    "#### Description:\n",
    "Créez une interface utilisateur simple en ligne de commande pour interagir avec le système de bibliothèque, permettant à l'utilisateur de choisir différentes actions.\n"
   ]
  },
  {
   "cell_type": "code",
   "execution_count": 95,
   "metadata": {},
   "outputs": [
    {
     "name": "stdout",
     "output_type": "stream",
     "text": [
      "1. Ajouter un livre\n",
      "2. Inscrire un adhérent\n",
      "3. Emprunter un livre\n",
      "4. Quitter\n"
     ]
    },
    {
     "ename": "AttributeError",
     "evalue": "'Bibliotheque' object has no attribute 'ajouter_livre'",
     "output_type": "error",
     "traceback": [
      "\u001b[0;31m---------------------------------------------------------------------------\u001b[0m",
      "\u001b[0;31mAttributeError\u001b[0m                            Traceback (most recent call last)",
      "Cell \u001b[0;32mIn[95], line 27\u001b[0m\n\u001b[1;32m     25\u001b[0m \u001b[38;5;66;03m# Exemple d'utilisation\u001b[39;00m\n\u001b[1;32m     26\u001b[0m biblio \u001b[38;5;241m=\u001b[39m Bibliotheque()\n\u001b[0;32m---> 27\u001b[0m \u001b[43mmenu_bibliotheque\u001b[49m\u001b[43m(\u001b[49m\u001b[43mbiblio\u001b[49m\u001b[43m)\u001b[49m\n",
      "Cell \u001b[0;32mIn[95], line 12\u001b[0m, in \u001b[0;36mmenu_bibliotheque\u001b[0;34m(bibliotheque)\u001b[0m\n\u001b[1;32m     10\u001b[0m     auteur \u001b[38;5;241m=\u001b[39m \u001b[38;5;28minput\u001b[39m(\u001b[38;5;124m\"\u001b[39m\u001b[38;5;124mEntrez l\u001b[39m\u001b[38;5;124m'\u001b[39m\u001b[38;5;124mauteur du livre: \u001b[39m\u001b[38;5;124m\"\u001b[39m)\n\u001b[1;32m     11\u001b[0m     pages \u001b[38;5;241m=\u001b[39m \u001b[38;5;28mint\u001b[39m(\u001b[38;5;28minput\u001b[39m(\u001b[38;5;124m\"\u001b[39m\u001b[38;5;124mNombre de pages: \u001b[39m\u001b[38;5;124m\"\u001b[39m))\n\u001b[0;32m---> 12\u001b[0m     \u001b[43mbibliotheque\u001b[49m\u001b[38;5;241;43m.\u001b[39;49m\u001b[43majouter_livre\u001b[49m(Livre(titre, auteur, pages))\n\u001b[1;32m     13\u001b[0m \u001b[38;5;28;01melif\u001b[39;00m choix \u001b[38;5;241m==\u001b[39m \u001b[38;5;124m'\u001b[39m\u001b[38;5;124m2\u001b[39m\u001b[38;5;124m'\u001b[39m:\n\u001b[1;32m     14\u001b[0m     nom \u001b[38;5;241m=\u001b[39m \u001b[38;5;28minput\u001b[39m(\u001b[38;5;124m\"\u001b[39m\u001b[38;5;124mEntrez le nom de l\u001b[39m\u001b[38;5;124m'\u001b[39m\u001b[38;5;124madhérent: \u001b[39m\u001b[38;5;124m\"\u001b[39m)\n",
      "\u001b[0;31mAttributeError\u001b[0m: 'Bibliotheque' object has no attribute 'ajouter_livre'"
     ]
    }
   ],
   "source": [
    "\n",
    "def menu_bibliotheque(bibliotheque):\n",
    "    while True:\n",
    "        print(\"1. Ajouter un livre\")\n",
    "        print(\"2. Inscrire un adhérent\")\n",
    "        print(\"3. Emprunter un livre\")\n",
    "        print(\"4. Quitter\")\n",
    "        choix = input(\"Entrez votre choix: \")\n",
    "        if choix == '1':\n",
    "            titre = input(\"Entrez le titre du livre: \")\n",
    "            auteur = input(\"Entrez l'auteur du livre: \")\n",
    "            pages = int(input(\"Nombre de pages: \"))\n",
    "            bibliotheque.ajouter_livre(Livre(titre, auteur, pages))\n",
    "        elif choix == '2':\n",
    "            nom = input(\"Entrez le nom de l'adhérent: \")\n",
    "            prenom = input(\"Entrez le prénom de l'adhérent: \")\n",
    "            identifiant = int(input(\"Entrez l'identifiant: \"))\n",
    "            bibliotheque.inscrire_adherent(Adherent(nom, prenom, identifiant))\n",
    "        elif choix == '3':\n",
    "            titre = input(\"Entrez le titre du livre à emprunter: \")\n",
    "            identifiant = int(input(\"Entrez votre identifiant: \"))\n",
    "            bibliotheque.emprunter_livre(titre, identifiant)\n",
    "        elif choix == '4':\n",
    "            break\n",
    "\n",
    "# Exemple d'utilisation\n",
    "biblio = Bibliotheque()\n",
    "menu_bibliotheque(biblio)\n"
   ]
  },
  {
   "cell_type": "code",
   "execution_count": null,
   "metadata": {},
   "outputs": [],
   "source": []
  }
 ],
 "metadata": {
  "kernelspec": {
   "display_name": "Python 3",
   "language": "python",
   "name": "python3"
  },
  "language_info": {
   "codemirror_mode": {
    "name": "ipython",
    "version": 3
   },
   "file_extension": ".py",
   "mimetype": "text/x-python",
   "name": "python",
   "nbconvert_exporter": "python",
   "pygments_lexer": "ipython3",
   "version": "3.12.3"
  },
  "orig_nbformat": 4
 },
 "nbformat": 4,
 "nbformat_minor": 2
}
